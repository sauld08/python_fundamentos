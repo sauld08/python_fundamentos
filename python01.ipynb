{
 "cells": [
  {
   "cell_type": "markdown",
   "id": "9125ef6e",
   "metadata": {},
   "source": [
    "# python fundamentos\n",
    "* Variables\n",
    "* Tipos de datos\n",
    "    - Strings\n",
    "    - Enteros\n",
    "    - Flotantes\n",
    "    - Listas\n",
    "    - Diccionarios\n",
    "    - Tuplas\n",
    "* Operadores\n",
    "    - Matematicos\n",
    "    - Comparacion\n",
    "    - Logicos\n",
    "* Estructuras de control\n",
    "    - Condicionales\n",
    "    - Ciclos finitos\n",
    "    - Funciones"
   ]
  },
  {
   "cell_type": "code",
   "execution_count": 5,
   "id": "ac644427",
   "metadata": {},
   "outputs": [],
   "source": [
    "# variables\n",
    "name = \"Ada\"\n",
    "age = 30"
   ]
  },
  {
   "cell_type": "markdown",
   "id": "8edf10d8",
   "metadata": {},
   "source": []
  },
  {
   "cell_type": "code",
   "execution_count": 6,
   "id": "66b76c5e",
   "metadata": {},
   "outputs": [
    {
     "data": {
      "text/plain": [
       "'Ada'"
      ]
     },
     "execution_count": 6,
     "metadata": {},
     "output_type": "execute_result"
    }
   ],
   "source": [
    "name"
   ]
  },
  {
   "cell_type": "code",
   "execution_count": 7,
   "id": "2c81c6fb",
   "metadata": {},
   "outputs": [],
   "source": [
    "last_name = \"Amarillo\""
   ]
  },
  {
   "cell_type": "code",
   "execution_count": 8,
   "id": "fc617a0b",
   "metadata": {},
   "outputs": [],
   "source": [
    "# operadores matemáticos\n",
    "number1 = 10\n",
    "number2 = 5\n",
    "\n",
    "result_sum = number1 + number2\n",
    "result_subtraction = number1 - number2\n",
    "result_multiplication = number1 * number2\n",
    "result_division = number1 / number2\n"
   ]
  },
  {
   "cell_type": "code",
   "execution_count": 9,
   "id": "4467052a",
   "metadata": {},
   "outputs": [
    {
     "data": {
      "text/plain": [
       "2.0"
      ]
     },
     "execution_count": 9,
     "metadata": {},
     "output_type": "execute_result"
    }
   ],
   "source": [
    "result_division"
   ]
  },
  {
   "cell_type": "code",
   "execution_count": 11,
   "id": "3c954ef8",
   "metadata": {},
   "outputs": [
    {
     "name": "stdout",
     "output_type": "stream",
     "text": [
      "15\n",
      "5\n",
      "50\n",
      "2.0\n"
     ]
    }
   ],
   "source": [
    "print(result_sum)\n",
    "print(result_subtraction)\n",
    "print(result_multiplication)\n",
    "print(result_division)"
   ]
  },
  {
   "cell_type": "code",
   "execution_count": 12,
   "id": "e729540a",
   "metadata": {},
   "outputs": [
    {
     "name": "stdout",
     "output_type": "stream",
     "text": [
      "El resultado de la suma es: 15\n"
     ]
    }
   ],
   "source": [
    "print(f\"El resultado de la suma es: {result_sum}\")"
   ]
  },
  {
   "cell_type": "code",
   "execution_count": 14,
   "id": "cc7a82e8",
   "metadata": {},
   "outputs": [
    {
     "name": "stdout",
     "output_type": "stream",
     "text": [
      "El resultado de la resta es: 5\n"
     ]
    }
   ],
   "source": [
    "print(f\"El resultado de la resta es: {result_subtraction}\")"
   ]
  },
  {
   "cell_type": "code",
   "execution_count": 15,
   "id": "43865230",
   "metadata": {},
   "outputs": [
    {
     "name": "stdout",
     "output_type": "stream",
     "text": [
      "el resultado de la multiplicación es: 50\n"
     ]
    }
   ],
   "source": [
    "print(f\"el resultado de la multiplicación es: {result_multiplication}\")"
   ]
  },
  {
   "cell_type": "code",
   "execution_count": 16,
   "id": "46390629",
   "metadata": {},
   "outputs": [
    {
     "name": "stdout",
     "output_type": "stream",
     "text": [
      "el resultado de la división es: 2.0\n"
     ]
    }
   ],
   "source": [
    "print(f\"el resultado de la división es: {result_division}\")"
   ]
  },
  {
   "cell_type": "code",
   "execution_count": null,
   "id": "9aba7166",
   "metadata": {},
   "outputs": [],
   "source": []
  }
 ],
 "metadata": {
  "kernelspec": {
   "display_name": ".venv",
   "language": "python",
   "name": "python3"
  },
  "language_info": {
   "codemirror_mode": {
    "name": "ipython",
    "version": 3
   },
   "file_extension": ".py",
   "mimetype": "text/x-python",
   "name": "python",
   "nbconvert_exporter": "python",
   "pygments_lexer": "ipython3",
   "version": "3.13.6"
  }
 },
 "nbformat": 4,
 "nbformat_minor": 5
}
